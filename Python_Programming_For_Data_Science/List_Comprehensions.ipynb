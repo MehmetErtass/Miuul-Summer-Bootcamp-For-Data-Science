{
 "cells": [
  {
   "cell_type": "code",
   "execution_count": 2,
   "id": "9b59dc19",
   "metadata": {},
   "outputs": [
    {
     "name": "stdout",
     "output_type": "stream",
     "text": [
      "[2000, 4000, 6000, 4000, 5000]\n"
     ]
    }
   ],
   "source": [
    "salaryies = [1000, 2000, 3000, 4000, 5000]\n",
    "\n",
    "new_salaryies = []\n",
    "\n",
    "for i in salaryies:\n",
    "    if i > 3000:\n",
    "        new_salaryies.append(i)\n",
    "    else:\n",
    "        new_salaryies.append(i * 2)\n",
    "        \n",
    "print(new_salaryies)"
   ]
  },
  {
   "cell_type": "code",
   "execution_count": 3,
   "id": "c6f01c0b",
   "metadata": {},
   "outputs": [
    {
     "data": {
      "text/plain": [
       "[None, None, None, None, None]"
      ]
     },
     "execution_count": 3,
     "metadata": {},
     "output_type": "execute_result"
    }
   ],
   "source": [
    "[new_salaryies.append(i) if i > 3000 else new_salaryies.append(i * 2) for i in salaryies]"
   ]
  },
  {
   "cell_type": "code",
   "execution_count": 4,
   "id": "0069ce56",
   "metadata": {},
   "outputs": [
    {
     "data": {
      "text/plain": [
       "[2000, 4000, 6000]"
      ]
     },
     "execution_count": 4,
     "metadata": {},
     "output_type": "execute_result"
    }
   ],
   "source": [
    "[salary* 2 for salary in salaryies if salary <= 3000]"
   ]
  },
  {
   "cell_type": "code",
   "execution_count": 5,
   "id": "d38e8dcf",
   "metadata": {},
   "outputs": [
    {
     "data": {
      "text/plain": [
       "[2000, 4000, 6000, 0, 0]"
      ]
     },
     "execution_count": 5,
     "metadata": {},
     "output_type": "execute_result"
    }
   ],
   "source": [
    "[salary* 2 if salary <= 3000 else salary*0  for salary in salaryies]"
   ]
  },
  {
   "cell_type": "code",
   "execution_count": 6,
   "id": "46a4187c",
   "metadata": {},
   "outputs": [
    {
     "data": {
      "text/plain": [
       "['ali', 'VELI', 'deli', 'AYŞE']"
      ]
     },
     "execution_count": 6,
     "metadata": {},
     "output_type": "execute_result"
    }
   ],
   "source": [
    "students = [\"ali\", \"veli\", \"deli\", \"ayşe\"]\n",
    "\n",
    "students_not = [\"ali\", \"deli\"]\n",
    "\n",
    "[i.lower() if i in students_not else i.upper() for i in students]"
   ]
  },
  {
   "cell_type": "markdown",
   "id": "8eed2825",
   "metadata": {},
   "source": [
    "We want to change variable names in a data set.\n",
    " \n",
    "*  Before : + ['total', 'speeding', 'alcohol', 'not_distracted', \"no_previous\",\"ins_premium','ins_losses', 'abbrev']\n",
    " \n",
    "*  After : + [\"TOTAL\", \"SPEEDING\", \"ALCOHOL\", \"NOT_DISTRACTED\", \"NO_PREVIOUS\", \"INS_PREMIUM\", \"INS_LOSSES\", \"ABBREV\"]"
   ]
  },
  {
   "cell_type": "code",
   "execution_count": 8,
   "id": "c8df722a",
   "metadata": {},
   "outputs": [],
   "source": [
    "import seaborn as sns\n",
    "\n",
    "car_crashes=  sns.load_dataset(\"car_crashes\")\n",
    "df = car_crashes.copy()"
   ]
  },
  {
   "cell_type": "code",
   "execution_count": 9,
   "id": "292bb3c0",
   "metadata": {},
   "outputs": [],
   "source": [
    "df.columns = [col.upper() for col in df.columns]"
   ]
  },
  {
   "cell_type": "code",
   "execution_count": 10,
   "id": "0ba73e25",
   "metadata": {},
   "outputs": [
    {
     "data": {
      "text/plain": [
       "['INS_PREMIUM', 'INS_LOSSES']"
      ]
     },
     "execution_count": 10,
     "metadata": {},
     "output_type": "execute_result"
    }
   ],
   "source": [
    "[col for col in df.columns if \"INS\" in col]"
   ]
  },
  {
   "cell_type": "code",
   "execution_count": 11,
   "id": "42617284",
   "metadata": {},
   "outputs": [
    {
     "data": {
      "text/plain": [
       "['NO_FLAG_TOTAL',\n",
       " 'NO_FLAG_SPEEDING',\n",
       " 'NO_FLAG_ALCOHOL',\n",
       " 'NO_FLAG_NOT_DISTRACTED',\n",
       " 'NO_FLAG_NO_PREVIOUS',\n",
       " 'FLAG_INS_PREMIUM',\n",
       " 'FLAG_INS_LOSSES',\n",
       " 'NO_FLAG_ABBREV']"
      ]
     },
     "execution_count": 11,
     "metadata": {},
     "output_type": "execute_result"
    }
   ],
   "source": [
    "[\"FLAG_\" + col if \"INS\" in col else \"NO_FLAG_\" + col for col in df.columns]"
   ]
  }
 ],
 "metadata": {
  "kernelspec": {
   "display_name": "Python 3 (ipykernel)",
   "language": "python",
   "name": "python3"
  },
  "language_info": {
   "codemirror_mode": {
    "name": "ipython",
    "version": 3
   },
   "file_extension": ".py",
   "mimetype": "text/x-python",
   "name": "python",
   "nbconvert_exporter": "python",
   "pygments_lexer": "ipython3",
   "version": "3.11.5"
  }
 },
 "nbformat": 4,
 "nbformat_minor": 5
}
