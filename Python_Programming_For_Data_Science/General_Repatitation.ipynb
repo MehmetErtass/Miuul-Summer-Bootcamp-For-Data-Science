{
 "cells": [
  {
   "cell_type": "code",
   "execution_count": 1,
   "id": "ddd7758a",
   "metadata": {},
   "outputs": [
    {
     "name": "stdout",
     "output_type": "stream",
     "text": [
      "MeHmEt eRtAş\n"
     ]
    }
   ],
   "source": [
    "a = \"Mehmet Ertaş\"\n",
    "\n",
    "def string_changer(string):\n",
    "    new_string = \"\"\n",
    "    for i in range(len(string)):\n",
    "        if i % 2 == 0:\n",
    "            new_string += string[i].upper()\n",
    "        else:\n",
    "            new_string += string[i].lower()\n",
    "    return new_string\n",
    "print(string_changer(a))"
   ]
  },
  {
   "cell_type": "code",
   "execution_count": 2,
   "id": "8b8908ae",
   "metadata": {},
   "outputs": [
    {
     "name": "stdout",
     "output_type": "stream",
     "text": [
      "[['Mustafa', 'Elif'], ['Buse', 'Kerem']]\n"
     ]
    }
   ],
   "source": [
    "students = [\"Mustafa\", \"Buse\", \"Elif\", \"Kerem\"]\n",
    "def divide_students(students):\n",
    "    even = []\n",
    "    odd = []\n",
    "    for i in range(len(students)):\n",
    "        if i % 2 == 0:\n",
    "            even.append(students[i])\n",
    "        else:\n",
    "            odd.append(students[i])\n",
    "    return [even, odd]\n",
    "print(divide_students(students))"
   ]
  },
  {
   "cell_type": "code",
   "execution_count": 3,
   "id": "9fd03cb2",
   "metadata": {},
   "outputs": [
    {
     "name": "stdout",
     "output_type": "stream",
     "text": [
      "MeHmEt eRtAş\n"
     ]
    }
   ],
   "source": [
    "def altenating_with_enumerate(string):\n",
    "    new_string = \"\"\n",
    "    \n",
    "    for index, student in enumerate(string):\n",
    "        if index % 2 == 0:\n",
    "            new_string += student.upper()\n",
    "        else:\n",
    "            new_string += student.lower()\n",
    "    return new_string\n",
    "print(altenating_with_enumerate(a))"
   ]
  }
 ],
 "metadata": {
  "kernelspec": {
   "display_name": "Python 3 (ipykernel)",
   "language": "python",
   "name": "python3"
  },
  "language_info": {
   "codemirror_mode": {
    "name": "ipython",
    "version": 3
   },
   "file_extension": ".py",
   "mimetype": "text/x-python",
   "name": "python",
   "nbconvert_exporter": "python",
   "pygments_lexer": "ipython3",
   "version": "3.11.5"
  }
 },
 "nbformat": 4,
 "nbformat_minor": 5
}
