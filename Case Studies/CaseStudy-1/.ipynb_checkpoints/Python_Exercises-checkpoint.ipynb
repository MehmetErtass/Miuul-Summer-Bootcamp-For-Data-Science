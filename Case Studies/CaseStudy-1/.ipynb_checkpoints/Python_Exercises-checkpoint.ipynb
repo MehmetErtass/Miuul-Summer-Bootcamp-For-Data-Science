{
 "cells": [
  {
   "cell_type": "raw",
   "id": "89b59b9a",
   "metadata": {},
   "source": [
    "Task 1: \n",
    "\n",
    "Examine the data structures of the given values. Use the Type() method.\n",
    "\n",
    "x = 8 -- int\n",
    "y = 3.2 -- float\n",
    "z = 8 + 18 -- int\n",
    "a = \"Hello World\" -- str\n",
    "b = True -- bool\n",
    "c = 23 < 22 -- bool\n",
    "l = [1, 2, 3, 4] -- list\n",
    "d = {\"Name\": \"Jake\",\n",
    "      \"Age\": 27,\n",
    "      \"Address\": \"Downtown\" } -- dict\n",
    "t = (\"Machine Learning\", \"Data Science\") -- tuple\n",
    "s = {\"Python\", \"Machine Learning\", \"Data Science\"} -- set"
   ]
  },
  {
   "cell_type": "code",
   "execution_count": 1,
   "id": "3b968603",
   "metadata": {},
   "outputs": [
    {
     "data": {
      "text/plain": [
       "int"
      ]
     },
     "execution_count": 1,
     "metadata": {},
     "output_type": "execute_result"
    }
   ],
   "source": [
    "x = 8 \n",
    "type(x)"
   ]
  },
  {
   "cell_type": "code",
   "execution_count": 2,
   "id": "88644833",
   "metadata": {},
   "outputs": [
    {
     "data": {
      "text/plain": [
       "float"
      ]
     },
     "execution_count": 2,
     "metadata": {},
     "output_type": "execute_result"
    }
   ],
   "source": [
    "y = 3.2\n",
    "type(y)"
   ]
  },
  {
   "cell_type": "code",
   "execution_count": 3,
   "id": "3c4ba228",
   "metadata": {},
   "outputs": [
    {
     "data": {
      "text/plain": [
       "int"
      ]
     },
     "execution_count": 3,
     "metadata": {},
     "output_type": "execute_result"
    }
   ],
   "source": [
    "z = 8 + 18\n",
    "type(z)"
   ]
  },
  {
   "cell_type": "code",
   "execution_count": 4,
   "id": "22080b3f",
   "metadata": {},
   "outputs": [
    {
     "data": {
      "text/plain": [
       "str"
      ]
     },
     "execution_count": 4,
     "metadata": {},
     "output_type": "execute_result"
    }
   ],
   "source": [
    "a = \"Hello World\"\n",
    "type(a)"
   ]
  },
  {
   "cell_type": "code",
   "execution_count": 5,
   "id": "3cccc4bb",
   "metadata": {},
   "outputs": [
    {
     "data": {
      "text/plain": [
       "bool"
      ]
     },
     "execution_count": 5,
     "metadata": {},
     "output_type": "execute_result"
    }
   ],
   "source": [
    "b = True\n",
    "type(b)"
   ]
  },
  {
   "cell_type": "code",
   "execution_count": 6,
   "id": "ac0b7a8d",
   "metadata": {},
   "outputs": [
    {
     "data": {
      "text/plain": [
       "bool"
      ]
     },
     "execution_count": 6,
     "metadata": {},
     "output_type": "execute_result"
    }
   ],
   "source": [
    "c = 23 < 22\n",
    "type(c)"
   ]
  },
  {
   "cell_type": "code",
   "execution_count": 7,
   "id": "f00b4bdb",
   "metadata": {},
   "outputs": [
    {
     "data": {
      "text/plain": [
       "list"
      ]
     },
     "execution_count": 7,
     "metadata": {},
     "output_type": "execute_result"
    }
   ],
   "source": [
    "l = [1, 2, 3, 4]\n",
    "type(l)"
   ]
  },
  {
   "cell_type": "code",
   "execution_count": 8,
   "id": "9e21d17a",
   "metadata": {},
   "outputs": [
    {
     "data": {
      "text/plain": [
       "dict"
      ]
     },
     "execution_count": 8,
     "metadata": {},
     "output_type": "execute_result"
    }
   ],
   "source": [
    "d = {\"Name\": \"Jake\",\n",
    "     \"Age\": 27, \n",
    "     \"Adress\": \"Downtown\" }\n",
    "type(d)"
   ]
  },
  {
   "cell_type": "code",
   "execution_count": 9,
   "id": "83a95ab6",
   "metadata": {},
   "outputs": [
    {
     "data": {
      "text/plain": [
       "tuple"
      ]
     },
     "execution_count": 9,
     "metadata": {},
     "output_type": "execute_result"
    }
   ],
   "source": [
    "t = (\"Machine Learning\", \"Data Science\")\n",
    "type(t)"
   ]
  },
  {
   "cell_type": "code",
   "execution_count": 10,
   "id": "5926ed4b",
   "metadata": {},
   "outputs": [
    {
     "data": {
      "text/plain": [
       "set"
      ]
     },
     "execution_count": 10,
     "metadata": {},
     "output_type": "execute_result"
    }
   ],
   "source": [
    "s = {\"Python\", \"Machine Learning\", \"Data Science\"}\n",
    "type(s)"
   ]
  },
  {
   "cell_type": "raw",
   "id": "f3ff439c",
   "metadata": {},
   "source": [
    "Task 2: \n",
    "\n",
    "Convert all letters of the given string expression to uppercase. Put space instead of commas and periods, separate them word by word.\n",
    "    \n",
    "text = \"The goal is to turn data into information, and information into insight.\"\n",
    "    \n",
    "expected = ['THE', 'GOAL', 'IS', 'TO', 'TURN', 'DATA', 'INTO', 'INFORMATION', 'AND', 'INFORMATION', 'INTO', 'INSIGHT' ]"
   ]
  },
  {
   "cell_type": "code",
   "execution_count": 11,
   "id": "e85df9da",
   "metadata": {},
   "outputs": [
    {
     "data": {
      "text/plain": [
       "['THE',\n",
       " 'GOAL',\n",
       " 'IS',\n",
       " 'TO',\n",
       " 'TURN',\n",
       " 'DATA',\n",
       " 'INTO',\n",
       " 'INFORMATION',\n",
       " 'AND',\n",
       " 'INFORMATION',\n",
       " 'INTO',\n",
       " 'INSIGHT']"
      ]
     },
     "execution_count": 11,
     "metadata": {},
     "output_type": "execute_result"
    }
   ],
   "source": [
    "text = \"The goal is to turn data into information, and information into insight.\"\n",
    "\n",
    "text.upper().replace(\",\", \"\").replace(\".\", \"\").split()"
   ]
  },
  {
   "cell_type": "raw",
   "id": "85d7f12d",
   "metadata": {},
   "source": [
    "Task 3: \n",
    "\n",
    "Follow the steps below given the list.\n",
    "\n",
    "lst = [\"D\", \"A\", \"T\", \"A\", \"S\", \"C\", \"I\", \"E\", \"N\", \"C\", \"E\"]\n",
    " \n",
    "Step1: Look at the number of elements in the given list.\n",
    "Step2: Call the elements at the zeroth and tenth index.\n",
    "Step3: Create a list [\"D\", \"A\", \"T\", \"A\"] from the given list.\n",
    "Step4: Delete the element at the eighth index.\n",
    "Step5: Add a new element.\n",
    "Step6: Add the \"N\" element again to the eighth index."
   ]
  },
  {
   "cell_type": "code",
   "execution_count": 12,
   "id": "0d1b6ffd",
   "metadata": {},
   "outputs": [],
   "source": [
    "lst = [\"D\", \"A\", \"T\", \"A\", \"S\", \"C\", \"I\", \"E\", \"N\", \"C\", \"E\"]"
   ]
  },
  {
   "cell_type": "code",
   "execution_count": 13,
   "id": "0b96a889",
   "metadata": {},
   "outputs": [
    {
     "data": {
      "text/plain": [
       "11"
      ]
     },
     "execution_count": 13,
     "metadata": {},
     "output_type": "execute_result"
    }
   ],
   "source": [
    "# Step 1: We look at the number of elements of the given list. \n",
    "len(lst)"
   ]
  },
  {
   "cell_type": "code",
   "execution_count": 14,
   "id": "931f3402",
   "metadata": {},
   "outputs": [
    {
     "data": {
      "text/plain": [
       "'D'"
      ]
     },
     "execution_count": 14,
     "metadata": {},
     "output_type": "execute_result"
    }
   ],
   "source": [
    "# Step 2: We call the elements at the zeroth and tenth index \n",
    "lst[0]"
   ]
  },
  {
   "cell_type": "code",
   "execution_count": 15,
   "id": "ed69a9c0",
   "metadata": {},
   "outputs": [
    {
     "data": {
      "text/plain": [
       "'E'"
      ]
     },
     "execution_count": 15,
     "metadata": {},
     "output_type": "execute_result"
    }
   ],
   "source": [
    "lst[10]"
   ]
  },
  {
   "cell_type": "code",
   "execution_count": 16,
   "id": "8e0dbaa5",
   "metadata": {},
   "outputs": [],
   "source": [
    "# Step 3: We create a list [\"D\", \"A\", \"T\", \"A\"] from the given list. \n",
    "new_list = lst[0:4]"
   ]
  },
  {
   "cell_type": "code",
   "execution_count": 17,
   "id": "cee7e29e",
   "metadata": {},
   "outputs": [
    {
     "data": {
      "text/plain": [
       "'N'"
      ]
     },
     "execution_count": 17,
     "metadata": {},
     "output_type": "execute_result"
    }
   ],
   "source": [
    "# Step 4: We delete the element at the eighth index.\n",
    "lst.pop(8)"
   ]
  },
  {
   "cell_type": "code",
   "execution_count": 18,
   "id": "e5e0b7b1",
   "metadata": {},
   "outputs": [],
   "source": [
    "# Step5: We add a new element.\n",
    "lst.append(\"X\")"
   ]
  },
  {
   "cell_type": "code",
   "execution_count": 19,
   "id": "a753cef8",
   "metadata": {},
   "outputs": [
    {
     "data": {
      "text/plain": [
       "['D', 'A', 'T', 'A', 'S', 'C', 'I', 'E', 'N', 'C', 'E', 'X']"
      ]
     },
     "execution_count": 19,
     "metadata": {},
     "output_type": "execute_result"
    }
   ],
   "source": [
    "# Step 6: Add the \"N\" element again to the eighth index.\n",
    "lst.insert(8, \"N\")\n",
    "lst"
   ]
  },
  {
   "cell_type": "raw",
   "id": "83bbc507",
   "metadata": {},
   "source": [
    "Task 4: \n",
    "\n",
    "Apply the following steps to the given dictionary structure\n",
    "\n",
    "dict = {'Christian': [\"America\", 18],\n",
    "'Daisy': [\"England\", 12],\n",
    "'Antonio': [\"Spain\", 22],\n",
    "'Dante': [\"Italy\" ,25]}\n",
    "\n",
    "Step1: Access key values.\n",
    "Step2: Access the values.\n",
    "Step3: Update the value of Daisy key 12 to 13.\n",
    "Step4: Add a new value with the key value Ahmet value [Turkey,24].\n",
    "Step5: Delete Antonio from the dictionary."
   ]
  },
  {
   "cell_type": "code",
   "execution_count": 20,
   "id": "124088db",
   "metadata": {},
   "outputs": [],
   "source": [
    "dict = {'Christian': [\"America\", 18],\n",
    "'Daisy': [\"England\", 12],\n",
    "'Antonio': [\"Spain\", 22],\n",
    "'Dante': [\"Italy\" ,25]}"
   ]
  },
  {
   "cell_type": "code",
   "execution_count": 21,
   "id": "f89420cd",
   "metadata": {},
   "outputs": [
    {
     "data": {
      "text/plain": [
       "dict_keys(['Christian', 'Daisy', 'Antonio', 'Dante'])"
      ]
     },
     "execution_count": 21,
     "metadata": {},
     "output_type": "execute_result"
    }
   ],
   "source": [
    "# Step1: Access the key values.\n",
    "dict.keys()"
   ]
  },
  {
   "cell_type": "code",
   "execution_count": 22,
   "id": "1b646b3a",
   "metadata": {},
   "outputs": [
    {
     "data": {
      "text/plain": [
       "dict_values([['America', 18], ['England', 12], ['Spain', 22], ['Italy', 25]])"
      ]
     },
     "execution_count": 22,
     "metadata": {},
     "output_type": "execute_result"
    }
   ],
   "source": [
    "# Step2: Access the values.\n",
    "dict.values()"
   ]
  },
  {
   "cell_type": "code",
   "execution_count": 23,
   "id": "772bd6bd",
   "metadata": {},
   "outputs": [],
   "source": [
    "# Step3: Update the value 12 of Daisy key to 13.\n",
    "dict[\"Daisy\"][1] = 13"
   ]
  },
  {
   "cell_type": "code",
   "execution_count": 24,
   "id": "7c57f7ba",
   "metadata": {},
   "outputs": [],
   "source": [
    "# Step4: Add a new value with the key value Ahmet value [Turkey,24].\n",
    "dict[\"Ahmet\"] = [\"Turkey\", 24]"
   ]
  },
  {
   "cell_type": "code",
   "execution_count": 25,
   "id": "e299c992",
   "metadata": {},
   "outputs": [
    {
     "data": {
      "text/plain": [
       "['Spain', 22]"
      ]
     },
     "execution_count": 25,
     "metadata": {},
     "output_type": "execute_result"
    }
   ],
   "source": [
    "# Step5: Delete Antonio from the dictionary.\n",
    "dict.pop(\"Antonio\")"
   ]
  },
  {
   "cell_type": "raw",
   "id": "5afd756c",
   "metadata": {},
   "source": [
    "Task 5: \n",
    "\n",
    "Write a function that takes a list as an argument, assigns the odd and even numbers in the list to separate lists, and returns this list."
   ]
  },
  {
   "cell_type": "code",
   "execution_count": 26,
   "id": "37fb40ef",
   "metadata": {},
   "outputs": [],
   "source": [
    "lst = [4,13,14,43,29]"
   ]
  },
  {
   "cell_type": "code",
   "execution_count": 27,
   "id": "c1017c34",
   "metadata": {},
   "outputs": [],
   "source": [
    "def example(lst):\n",
    "    odd = []\n",
    "    even = []\n",
    "    for i in lst:\n",
    "        if i % 2 == 0:\n",
    "            even.append(i)\n",
    "        else:\n",
    "            odd.append(i)\n",
    "    return odd, even"
   ]
  },
  {
   "cell_type": "code",
   "execution_count": 28,
   "id": "a9607783",
   "metadata": {},
   "outputs": [],
   "source": [
    "even_list, odd_list = example(lst)"
   ]
  },
  {
   "cell_type": "code",
   "execution_count": 29,
   "id": "b4df30db",
   "metadata": {},
   "outputs": [
    {
     "data": {
      "text/plain": [
       "[13, 43, 29]"
      ]
     },
     "execution_count": 29,
     "metadata": {},
     "output_type": "execute_result"
    }
   ],
   "source": [
    "even_list"
   ]
  },
  {
   "cell_type": "code",
   "execution_count": 30,
   "id": "e0424f70",
   "metadata": {},
   "outputs": [
    {
     "data": {
      "text/plain": [
       "[4, 14]"
      ]
     },
     "execution_count": 30,
     "metadata": {},
     "output_type": "execute_result"
    }
   ],
   "source": [
    "odd_list"
   ]
  },
  {
   "cell_type": "raw",
   "id": "b6bafb94",
   "metadata": {},
   "source": [
    "Task 6: \n",
    "\n",
    "The list given below contains the names of the students who achieved success in engineering and medical faculties. The first three students respectively studied engineering While it represents the success order of the faculty, the last three students belong to the student rank of the faculty of medicine. Get student grades using Enumarate Have it printed privately by the faculty.\n",
    "\n",
    "students = [\"Ali\", \"Veli\", \"Ayse\", \"Talat\", \"Zeynep\", \"Ece\"]\n",
    "\n",
    "Expected Output:\n",
    "Faculty of Engineering 1. student: Ali\n",
    "Faculty of Engineering 2. student: Parent\n",
    "Faculty of Engineering 3. student: Ayse\n",
    "Faculty of Medicine 1. student: Talat\n",
    "Faculty of Medicine 2. student: Zeynep\n",
    "Faculty of Medicine 3 students: Ece"
   ]
  },
  {
   "cell_type": "code",
   "execution_count": 31,
   "id": "ffc9ea1f",
   "metadata": {},
   "outputs": [
    {
     "name": "stdout",
     "output_type": "stream",
     "text": [
      "Mühendislik Fakültesi 1. ögrenci: Ali\n",
      "Mühendislik Fakültesi 2. ögrenci: Veli\n",
      "Mühendislik Fakültesi 3. ögrenci: Ayse\n",
      "Tip Fakültesi 1. ögrenci: Talat\n",
      "Tip Fakültesi 2. ögrenci: Zeynep\n",
      "Tip Fakültesi 3. ögrenci: Ece\n"
     ]
    }
   ],
   "source": [
    "students = [\"Ali\", \"Veli\", \"Ayse\", \"Talat\", \"Zeynep\", \"Ece\"]\n",
    "\n",
    "for index, student in enumerate(students):\n",
    "    if index < 3:\n",
    "        print(\"Mühendislik Fakültesi {}. ögrenci: {}\".format(index+1, student))\n",
    "    else:\n",
    "        print(\"Tip Fakültesi {}. ögrenci: {}\".format(index-2, student))"
   ]
  },
  {
   "cell_type": "raw",
   "id": "5afcb014",
   "metadata": {},
   "source": [
    "Task 7: \n",
    "\n",
    "Below are 3 lists. The lists contain the code, credit and quota information of a course, respectively.Print the course information using Zip.\n",
    "\n",
    "course_code = [\"CMP1005\", \"PSY1001\", \"HUK1005\", \"SEN2204\"]\n",
    "credit = [3,4,2,4]\n",
    "quota = [30,75,150,25]\n",
    "\n",
    "Expected Output:\n",
    "The quota of the course coded CMP1005, which has 3 credits, is 30 people.\n",
    "The quota of the course coded PSY1001, which has 4 credits, is 75 people.\n",
    "The quota of the HUK1005 course, which has 2 credits, is 150 people.\n",
    "The quota of the course coded SEN2204, which has 4 credits, is 25 people."
   ]
  },
  {
   "cell_type": "code",
   "execution_count": 32,
   "id": "2c5eac6d",
   "metadata": {},
   "outputs": [],
   "source": [
    "course_code = [\"CMP1005\", \"PSY1001\", \"HUK1005\", \"SEN2204\"]\n",
    "kredi = [3,4,2,4]\n",
    "kontenian = [30,75,150,25]"
   ]
  },
  {
   "cell_type": "code",
   "execution_count": 33,
   "id": "b8017622",
   "metadata": {},
   "outputs": [],
   "source": [
    "ders_bilgileri = list(zip(course_code, kredi, kontenian))"
   ]
  },
  {
   "cell_type": "code",
   "execution_count": 34,
   "id": "89e3796c",
   "metadata": {},
   "outputs": [
    {
     "name": "stdout",
     "output_type": "stream",
     "text": [
      "Kredisi 3 olan CMP1005 kodlu dersin kontenjanı 30 kisidir.\n",
      "Kredisi 4 olan PSY1001 kodlu dersin kontenjanı 75 kisidir.\n",
      "Kredisi 2 olan HUK1005 kodlu dersin kontenjanı 150 kisidir.\n",
      "Kredisi 4 olan SEN2204 kodlu dersin kontenjanı 25 kisidir.\n"
     ]
    }
   ],
   "source": [
    "for i in ders_bilgileri: \n",
    "    print(f\"Kredisi {i[1]} olan {i[0]} kodlu dersin kontenjanı {i[2]} kisidir.\")"
   ]
  },
  {
   "cell_type": "raw",
   "id": "d79ca2e7",
   "metadata": {},
   "source": [
    "## Task 8: \n",
    "\n",
    "2 sets are given below. What you are asked to do is, if the 1st set covers the 2nd set, then the common elements, if not, then the 2nd set.You are expected to define the function that will print the difference of the set from the 1st set.\n",
    "\n",
    "kumel = set( [\"data\", \"python\"])\n",
    "kume2 = set( ['data', \"function\", \"qcut\", \"lambda\", \"python\", \"miuul\")\n",
    "\n",
    "Expected Output:\n",
    "  {'function', 'qcut', 'lambda', 'miuul'}"
   ]
  },
  {
   "cell_type": "code",
   "execution_count": 35,
   "id": "794d4fd6",
   "metadata": {},
   "outputs": [],
   "source": [
    "kume1 = set( [\"data\", \"python\"])\n",
    "kume2 = set( [\"data\", \"function\", \"qcut\", \"lambda\", \"python\", \"miuul\"])"
   ]
  },
  {
   "cell_type": "code",
   "execution_count": 36,
   "id": "f47c47a9",
   "metadata": {},
   "outputs": [
    {
     "data": {
      "text/plain": [
       "False"
      ]
     },
     "execution_count": 36,
     "metadata": {},
     "output_type": "execute_result"
    }
   ],
   "source": [
    "kume1.issuperset(kume2)"
   ]
  },
  {
   "cell_type": "code",
   "execution_count": 37,
   "id": "ed05712a",
   "metadata": {},
   "outputs": [
    {
     "name": "stdout",
     "output_type": "stream",
     "text": [
      "{'lambda', 'function', 'miuul', 'qcut'}\n"
     ]
    }
   ],
   "source": [
    "print(kume2.difference(kume1)) "
   ]
  }
 ],
 "metadata": {
  "kernelspec": {
   "display_name": "Python 3 (ipykernel)",
   "language": "python",
   "name": "python3"
  },
  "language_info": {
   "codemirror_mode": {
    "name": "ipython",
    "version": 3
   },
   "file_extension": ".py",
   "mimetype": "text/x-python",
   "name": "python",
   "nbconvert_exporter": "python",
   "pygments_lexer": "ipython3",
   "version": "3.11.5"
  }
 },
 "nbformat": 4,
 "nbformat_minor": 5
}
